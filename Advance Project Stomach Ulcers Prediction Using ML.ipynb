{
 "cells": [
  {
   "cell_type": "code",
   "execution_count": null,
   "id": "6e015e87",
   "metadata": {},
   "outputs": [],
   "source": [
    "import pandas as pd\n",
    "import numpy as np\n",
    "from sklearn.model_selection import train_test_split\n",
    "from sklearn.preprocessing import StandardScaler\n",
    "from sklearn.ensemble import RandomForestClassifier\n",
    "from sklearn.metrics import classification_report, confusion_matrix, accuracy_score\n",
    "import pickle\n",
    "import seaborn as sns\n",
    "import matplotlib.pyplot as plt"
   ]
  },
  {
   "cell_type": "code",
   "execution_count": null,
   "id": "475fc2fc",
   "metadata": {},
   "outputs": [],
   "source": [
    "# Load the dataset\n",
    "df = pd.read_csv('C:\\\\Users\\\\chave\\\\OneDrive\\\\Desktop\\\\abhinav\\\\dataset\\\\ulcers.csv')\n",
    "\n",
    "# Display first few rows of the dataset\n",
    "print(df.head())\n",
    "\n",
    "# Check for missing values\n",
    "print(df.isnull().sum())\n",
    "\n",
    "# Fill missing values if necessary\n",
    "df.fillna(df.median(), inplace=True)"
   ]
  },
  {
   "cell_type": "code",
   "execution_count": null,
   "id": "db163f67",
   "metadata": {},
   "outputs": [],
   "source": [
    "df.head(10)"
   ]
  },
  {
   "cell_type": "code",
   "execution_count": null,
   "id": "848ff0b4",
   "metadata": {},
   "outputs": [],
   "source": [
    "df.shape"
   ]
  },
  {
   "cell_type": "code",
   "execution_count": null,
   "id": "01e941f5",
   "metadata": {},
   "outputs": [],
   "source": [
    "df.columns"
   ]
  },
  {
   "cell_type": "code",
   "execution_count": null,
   "id": "6cd62806",
   "metadata": {},
   "outputs": [],
   "source": [
    "fig, ax = plt.subplots(4, 2, figsize=(20, 20))\n",
    "sns.histplot(df['NSAIDUse'], bins=20, ax=ax[0, 0], color=\"red\", kde=True)\n",
    "ax[0, 0]\n",
    "sns.histplot(df['H.pyloriInfection'], bins=20, ax=ax[0, 1], color=\"red\", kde=True)\n",
    "ax[0, 1]\n",
    "\n",
    "sns.histplot(df['AcidityLevel'], bins=20, ax=ax[1, 0], color=\"red\", kde=True)\n",
    "ax[1, 0]\n",
    "\n",
    "sns.histplot(df['Gender'], bins=20, ax=ax[1, 1], color=\"red\", kde=True)\n",
    "ax[1, 1]\n",
    "\n",
    "sns.histplot(df['AlcoholConsumption'], bins=20, ax=ax[2, 0], color=\"red\", kde=True)\n",
    "ax[2, 0]\n",
    "\n",
    "sns.histplot(df['StressLevels'], bins=20, ax=ax[2, 1], color=\"red\", kde=True)\n",
    "ax[2, 1]\n",
    "\n",
    "sns.histplot(df['SmokingStatus'], bins=20, ax=ax[3, 0], color=\"red\", kde=True)\n",
    "ax[3, 0]\n",
    "\n",
    "sns.histplot(df['Age'], bins=20, ax=ax[3, 1], color=\"red\", kde=True)\n",
    "ax[3, 1]\n"
   ]
  },
  {
   "cell_type": "code",
   "execution_count": null,
   "id": "c0386aae",
   "metadata": {},
   "outputs": [],
   "source": [
    "# df['Gender'] = df['Gender'].map({'M': 1, 'F': 0})\n",
    "# df['FamilyUlcerProblem'] = df['FamilyUlcerProblem'].map({'Yes': 1, 'No': 0})\n",
    "# # df['AbdominalPain'] = df['AbdominalPain'].map({'High': 1, 'Low': 0})\n",
    "# df['AlcoholConsumption'] = df['AlcoholConsumption'].map({'Yes': 1, 'No': 0})\n",
    "# df['SmokingStatus'] = df['SmokingStatus'].map({'High': 2, 'Moderate': 1, 'Low': 0})\n",
    "# # df['Outcome'] = df['Outcome'].map({ 'High': 1, 'Low': 0})\n",
    "\n",
    "# Outlier detection and capping using IQR method\n",
    "def cap_outliers(feature):\n",
    "    Q1 = df[feature].quantile(0.25)\n",
    "    Q3 = df[feature].quantile(0.75)\n",
    "    IQR = Q3 - Q1\n",
    "    lower_bound = Q1 - 1.5 * IQR\n",
    "    upper_bound = Q3 + 1.5 * IQR\n",
    "    df.loc[df[feature] > upper_bound, feature] = upper_bound.astype(int)\n",
    "    df.loc[df[feature] < lower_bound, feature] = lower_bound.astype(int)\n",
    "\n",
    "# Apply outlier capping to all numerical features\n",
    "numerical_features = df.select_dtypes(include='number').columns\n",
    "for feature in numerical_features:\n",
    "    cap_outliers(feature)"
   ]
  },
  {
   "cell_type": "code",
   "execution_count": null,
   "id": "1709d623",
   "metadata": {},
   "outputs": [],
   "source": [
    "# Define feature columns and target variable\n",
    "X = df.drop('Outcome', axis=1)\n",
    "y = df['Outcome']\n",
    "\n",
    "# Split the dataset into training and testing sets\n",
    "X_train, X_test, y_train, y_test = train_test_split(X, y, test_size=0.3, random_state=42)"
   ]
  },
  {
   "cell_type": "code",
   "execution_count": null,
   "id": "f1036334",
   "metadata": {},
   "outputs": [],
   "source": [
    "scaler = StandardScaler()\n",
    "X_train_scaled = scaler.fit_transform(X_train)\n",
    "X_test_scaled = scaler.transform(X_test)"
   ]
  },
  {
   "cell_type": "code",
   "execution_count": null,
   "id": "76dbfd6c",
   "metadata": {},
   "outputs": [],
   "source": [
    "model = RandomForestClassifier(random_state=42)\n",
    "model.fit(X_train_scaled, y_train)\n",
    "\n",
    "# Save the trained model\n",
    "pickle.dump(model, open('stomach_ulcer_model.pkl', 'wb'))"
   ]
  },
  {
   "cell_type": "code",
   "execution_count": null,
   "id": "dcf95926",
   "metadata": {},
   "outputs": [],
   "source": [
    "df.describe()"
   ]
  },
  {
   "cell_type": "code",
   "execution_count": null,
   "id": "b671864f",
   "metadata": {},
   "outputs": [],
   "source": [
    "# Make predictions on the test set\n",
    "y_pred = model.predict(X_test_scaled)\n",
    "\n",
    "# Evaluate the model\n",
    "print(\"Confusion Matrix:\")\n",
    "print(confusion_matrix(y_test, y_pred))\n",
    "print(\"\\nClassification Report:\")\n",
    "print(classification_report(y_test, y_pred))\n",
    "print(\"\\nAccuracy Score:\")\n",
    "print(accuracy_score(y_test, y_pred))"
   ]
  },
  {
   "cell_type": "code",
   "execution_count": null,
   "id": "c63ff4fc",
   "metadata": {},
   "outputs": [],
   "source": [
    "cat_cols = [col for col in df.columns if df[col].dtype == 'object']\n",
    "num_cols = [col for col in df.columns if df[col].dtype != 'object']"
   ]
  },
  {
   "cell_type": "code",
   "execution_count": null,
   "id": "97e96783",
   "metadata": {},
   "outputs": [],
   "source": [
    "importances = model.feature_importances_\n",
    "indices = np.argsort(importances)[::-1]\n",
    "\n",
    "# Plot feature importance\n",
    "plt.figure(figsize=(10, 6))\n",
    "plt.title(\"Feature Importance\")\n",
    "plt.bar(range(X.shape[1]), importances[indices], align=\"center\")\n",
    "plt.xticks(range(X.shape[1]), X.columns[indices], rotation=90)\n",
    "plt.tight_layout()\n",
    "plt.show()"
   ]
  },
  {
   "cell_type": "code",
   "execution_count": null,
   "id": "20ff65dd",
   "metadata": {},
   "outputs": [],
   "source": [
    "num_cols"
   ]
  },
  {
   "cell_type": "code",
   "execution_count": null,
   "id": "82ded941",
   "metadata": {},
   "outputs": [],
   "source": [
    "for col in cat_cols:\n",
    "    print(f\"{col} has {df[col].unique()}\")"
   ]
  },
  {
   "cell_type": "code",
   "execution_count": null,
   "id": "7ef09647",
   "metadata": {},
   "outputs": [],
   "source": [
    "plt.figure(figsize = (20, 15))\n",
    "plotnumber = 1\n",
    "\n",
    "for column in cat_cols:\n",
    "    if plotnumber <= 14:\n",
    "        ax = plt.subplot(3, 5, plotnumber)\n",
    "        sns.countplot(df[column] ,palette = 'rocket')\n",
    "        plt.xlabel(column)\n",
    "        \n",
    "    plotnumber += 1\n",
    "\n",
    "plt.tight_layout()\n",
    "plt.show()"
   ]
  },
  {
   "cell_type": "code",
   "execution_count": null,
   "id": "7270cd9d",
   "metadata": {},
   "outputs": [],
   "source": [
    "df.corr()"
   ]
  },
  {
   "cell_type": "code",
   "execution_count": null,
   "id": "20c42293",
   "metadata": {},
   "outputs": [],
   "source": [
    "plt.figure(figsize = (15,8))\n",
    "sns.heatmap(df.corr(), annot=True, linewidth=2, linecolor = 'lightgray')\n",
    "plt.show()"
   ]
  },
  {
   "cell_type": "code",
   "execution_count": null,
   "id": "1b4c4d8e",
   "metadata": {},
   "outputs": [],
   "source": [
    "# checking for missing value\n",
    "df.isnull().sum().sort_values(ascending=False)"
   ]
  },
  {
   "cell_type": "code",
   "execution_count": null,
   "id": "073a3094",
   "metadata": {},
   "outputs": [],
   "source": [
    "# two method\n",
    "# radom sampling->higer null value\n",
    "# mean/mode-> lower null value"
   ]
  },
  {
   "cell_type": "code",
   "execution_count": null,
   "id": "6f7505ca",
   "metadata": {},
   "outputs": [],
   "source": [
    "def random_sampling(feature):\n",
    "    random_sample = df[feature].dropna().sample(df[feature].isna().sum())\n",
    "    random_sample.index = df[df[feature].isnull()].index\n",
    "    df.loc[df[feature].isnull(), feature] = random_sample\n",
    "\n",
    "def impute_mode(feature):\n",
    "    mode = df[feature].mode()[0]\n",
    "    df[feature] = df[feature].fillna(mode)"
   ]
  },
  {
   "cell_type": "code",
   "execution_count": null,
   "id": "24126562",
   "metadata": {},
   "outputs": [],
   "source": [
    "# random sampling for numerical value\n",
    "for col in num_cols:\n",
    "    random_sampling(col)"
   ]
  },
  {
   "cell_type": "code",
   "execution_count": null,
   "id": "b076cda5",
   "metadata": {},
   "outputs": [],
   "source": [
    "df[num_cols].isnull().sum()"
   ]
  },
  {
   "cell_type": "code",
   "execution_count": null,
   "id": "e7a21c6f",
   "metadata": {},
   "outputs": [],
   "source": [
    "df[cat_cols].isnull().sum()"
   ]
  },
  {
   "cell_type": "code",
   "execution_count": null,
   "id": "28976b49",
   "metadata": {},
   "outputs": [],
   "source": [
    "# Feature Encoding"
   ]
  },
  {
   "cell_type": "code",
   "execution_count": null,
   "id": "42627bde",
   "metadata": {},
   "outputs": [],
   "source": [
    "# label_encoder\n",
    "from sklearn.preprocessing import LabelEncoder\n",
    "\n",
    "le = LabelEncoder()\n",
    "\n",
    "for col in cat_cols:\n",
    "    df[col] = le.fit_transform(df[col])"
   ]
  },
  {
   "cell_type": "code",
   "execution_count": null,
   "id": "2b436ef7",
   "metadata": {},
   "outputs": [],
   "source": [
    "df.head()"
   ]
  },
  {
   "cell_type": "code",
   "execution_count": null,
   "id": "5753d151",
   "metadata": {},
   "outputs": [],
   "source": [
    "# KNN"
   ]
  },
  {
   "cell_type": "code",
   "execution_count": null,
   "id": "165d74b0",
   "metadata": {},
   "outputs": [],
   "source": [
    "from sklearn.neighbors import KNeighborsClassifier\n",
    "from sklearn.metrics import accuracy_score, confusion_matrix, classification_report\n",
    "\n",
    "knn = KNeighborsClassifier()\n",
    "knn.fit(X_train, y_train)\n",
    "\n",
    "knn_acc = accuracy_score(y_test, knn.predict(X_test))\n",
    "print(f\"Training Accuracy of KNN is {accuracy_score(y_train, knn.predict(X_train))}\")\n",
    "print(f\"Testing Accuracy of KNN is {accuracy_score(y_test, knn.predict(X_test))}\")\n",
    "\n",
    "print(f\"Confusion Matrix of KNN is \\n {confusion_matrix(y_test, knn.predict(X_test))}\\n\")\n",
    "print(f\"Classification Report of KNN is \\n{classification_report(y_test, knn.predict(X_test))}\")"
   ]
  },
  {
   "cell_type": "code",
   "execution_count": null,
   "id": "6338211c",
   "metadata": {},
   "outputs": [],
   "source": [
    "# Decision Tree"
   ]
  },
  {
   "cell_type": "code",
   "execution_count": null,
   "id": "844de6b2",
   "metadata": {},
   "outputs": [],
   "source": [
    "from sklearn.tree import DecisionTreeClassifier\n",
    "\n",
    "dtc = DecisionTreeClassifier()\n",
    "dtc.fit(X_train, y_train)"
   ]
  },
  {
   "cell_type": "code",
   "execution_count": null,
   "id": "a81d5b7d",
   "metadata": {},
   "outputs": [],
   "source": [
    "dtc_acc = accuracy_score(y_test, dtc.predict(X_test))\n",
    "print(f\"Training Accuracy of DTC is {accuracy_score(y_train, dtc.predict(X_train))}\")\n",
    "print(f\"Testing Accuracy of DTC is {accuracy_score(y_test, dtc.predict(X_test))}\")\n",
    "\n",
    "print(f\"Confusion Matrix of DTC is \\n {confusion_matrix(y_test, dtc.predict(X_test))}\\n\")\n",
    "print(f\"Classification Report of DTC is \\n{classification_report(y_test, dtc.predict(X_test))}\")"
   ]
  },
  {
   "cell_type": "code",
   "execution_count": null,
   "id": "7d6495e7",
   "metadata": {},
   "outputs": [],
   "source": [
    "# Hyper Parameter Tuning\n",
    "from sklearn.model_selection import GridSearchCV\n",
    "\n",
    "GRID_PARAMETER = {\n",
    "    'criterion':['gini','entropy'],\n",
    "    'max_depth':[3,5,7,10],\n",
    "    'splitter':['best','random'],\n",
    "    'min_samples_leaf':[1,2,3,5,7],\n",
    "    'min_samples_split':[1,2,3,5,7],\n",
    "    'max_features':['auto', 'sqrt', 'log2']\n",
    "}\n",
    "\n",
    "grid_search_dtc = GridSearchCV(dtc, GRID_PARAMETER, cv=5, n_jobs=-1, verbose = 1)\n",
    "grid_search_dtc.fit(X_train, y_train)"
   ]
  },
  {
   "cell_type": "code",
   "execution_count": null,
   "id": "82a3c624",
   "metadata": {},
   "outputs": [],
   "source": [
    "# best paramer and best score\n",
    "print(grid_search_dtc.best_params_)\n",
    "print(grid_search_dtc.best_score_)"
   ]
  },
  {
   "cell_type": "code",
   "execution_count": null,
   "id": "102e668d",
   "metadata": {},
   "outputs": [],
   "source": [
    "dtc = grid_search_dtc.best_estimator_\n",
    "\n",
    "dtc_acc = accuracy_score(y_test, dtc.predict(X_test))\n",
    "print(f\"Training Accuracy of DTC is {accuracy_score(y_train, dtc.predict(X_train))}\")\n",
    "print(f\"Testing Accuracy of DTC is {accuracy_score(y_test, dtc.predict(X_test))}\")\n",
    "\n",
    "print(f\"Confusion Matrix of DTC is \\n {confusion_matrix(y_test, dtc.predict(X_test))}\\n\")\n",
    "print(f\"Classification Report of DTC is \\n{classification_report(y_test, dtc.predict(X_test))}\")"
   ]
  },
  {
   "cell_type": "code",
   "execution_count": null,
   "id": "82bac308",
   "metadata": {},
   "outputs": [],
   "source": [
    "# Random Forest Classifier\n",
    "from sklearn.ensemble import RandomForestClassifier\n",
    "\n",
    "rand_clf = RandomForestClassifier(criterion = \"gini\", max_depth = 10, max_features=\"sqrt\", min_samples_leaf= 1, min_samples_split= 7, n_estimators = 400)\n",
    "rand_clf.fit(X_train, y_train)"
   ]
  },
  {
   "cell_type": "code",
   "execution_count": null,
   "id": "34a20e12",
   "metadata": {},
   "outputs": [],
   "source": [
    "rand_clf_acc = accuracy_score(y_test, rand_clf.predict(X_test))\n",
    "print(f\"Training Accuracy of Random Forest is {accuracy_score(y_train, rand_clf.predict(X_train))}\")\n",
    "print(f\"Testing Accuracy of Random Forest is {accuracy_score(y_test, rand_clf.predict(X_test))}\")\n",
    "\n",
    "print(f\"Confusion Matrix of Random Forest is \\n {confusion_matrix(y_test, rand_clf.predict(X_test))}\\n\")\n",
    "print(f\"Classification Report of Random Forest is \\n{classification_report(y_test, rand_clf.predict(X_test))}\")"
   ]
  },
  {
   "cell_type": "code",
   "execution_count": null,
   "id": "57534b97",
   "metadata": {},
   "outputs": [],
   "source": [
    "# XgBoost\n",
    "from xgboost import XGBClassifier\n",
    "xgb = XGBClassifier(objective=\"binary:logistic\", learning_rate = 0.001, max_depth = 10, n_estimators = 100)\n",
    "xgb.fit(X_train, y_train)"
   ]
  },
  {
   "cell_type": "code",
   "execution_count": null,
   "id": "b486c724",
   "metadata": {},
   "outputs": [],
   "source": [
    "xgb_acc = accuracy_score(y_test, xgb.predict(X_test))\n",
    "print(f\"Training Accuracy of XGB is {accuracy_score(y_train, xgb.predict(X_train))}\")\n",
    "print(f\"Testing Accuracy of XGB is {accuracy_score(y_test, xgb.predict(X_test))}\")\n",
    "\n",
    "print(f\"Confusion Matrix of XGB is \\n {confusion_matrix(y_test, xgb.predict(X_test))}\\n\")\n",
    "print(f\"Classification Report of XGB is \\n{classification_report(y_test, xgb.predict(X_test))}\")"
   ]
  },
  {
   "cell_type": "code",
   "execution_count": null,
   "id": "958df7ae",
   "metadata": {},
   "outputs": [],
   "source": [
    "from sklearn.linear_model import LogisticRegression\n",
    "lr = LogisticRegression()\n",
    "lr.fit(X_train, y_train)"
   ]
  },
  {
   "cell_type": "code",
   "execution_count": null,
   "id": "60318675",
   "metadata": {},
   "outputs": [],
   "source": [
    "lr_acc = accuracy_score(y_test, lr.predict(X_test))\n",
    "print(f\"Training Accuracy of LR is {accuracy_score(y_train, lr.predict(X_train))}\")\n",
    "print(f\"Testing Accuracy of LR is {accuracy_score(y_test, lr.predict(X_test))}\")\n",
    "\n",
    "print(f\"Confusion Matrix of LR is \\n {confusion_matrix(y_test, lr.predict(X_test))}\\n\")\n",
    "print(f\"Classification Report of LR is \\n{classification_report(y_test, lr.predict(X_test))}\")"
   ]
  },
  {
   "cell_type": "code",
   "execution_count": null,
   "id": "b7593c03",
   "metadata": {},
   "outputs": [],
   "source": [
    "# SVM\n",
    "from sklearn.svm import SVC\n",
    "from sklearn.model_selection import GridSearchCV\n",
    "\n",
    "svm  = SVC(probability=True)\n",
    "\n",
    "parameter = {\n",
    "    'gamma':[0.0001, 0.001, 0.01, 0.1],\n",
    "    'C':[0.01, 0.05, 0.5, 0.1, 1, 10, 15, 20]\n",
    "}\n",
    "\n",
    "grid_search = GridSearchCV(svm, parameter)\n",
    "grid_search.fit(X_train, y_train)"
   ]
  },
  {
   "cell_type": "code",
   "execution_count": null,
   "id": "48dcf093",
   "metadata": {},
   "outputs": [],
   "source": [
    "print(grid_search.best_params_)\n",
    "print(grid_search.best_score_)"
   ]
  },
  {
   "cell_type": "code",
   "execution_count": null,
   "id": "71bab52e",
   "metadata": {},
   "outputs": [],
   "source": [
    "svm  = SVC(gamma = 0.0001, C  = 15, probability=True)\n",
    "svm.fit(X_train, y_train)"
   ]
  },
  {
   "cell_type": "code",
   "execution_count": null,
   "id": "8f5fc886",
   "metadata": {},
   "outputs": [],
   "source": [
    "svm_acc = accuracy_score(y_test, svm.predict(X_test))\n",
    "print(f\"Training Accuracy of SVC is {accuracy_score(y_train, svm.predict(X_train))}\")\n",
    "print(f\"Testing Accuracy of SVC is {accuracy_score(y_test, svm.predict(X_test))}\")\n",
    "\n",
    "print(f\"Confusion Matrix of SVC is \\n {confusion_matrix(y_test, svm.predict(X_test))}\\n\")\n",
    "print(f\"Classification Report of SVC is \\n{classification_report(y_test, svm.predict(X_test))}\")"
   ]
  },
  {
   "cell_type": "code",
   "execution_count": null,
   "id": "e4297646",
   "metadata": {},
   "outputs": [],
   "source": [
    "# Gradient Boosting\n",
    "from sklearn.ensemble import GradientBoostingClassifier\n",
    "\n",
    "gbc = GradientBoostingClassifier()\n",
    "\n",
    "PARAMETERS = {\n",
    "    'loss': ['log_loss', 'exponential'],\n",
    "    'learning_rate':[0.001, 0.1, 1, 10],\n",
    "    'n_estimators':[100,150,180, 200]\n",
    "}\n",
    "grid_search_gbc = GridSearchCV(gbc, PARAMETERS, cv=5, n_jobs=-1, verbose= 1)\n",
    "grid_search_gbc.fit(X_train, y_train)"
   ]
  },
  {
   "cell_type": "code",
   "execution_count": null,
   "id": "e33786d5",
   "metadata": {},
   "outputs": [],
   "source": [
    "print(grid_search_gbc.best_params_)"
   ]
  },
  {
   "cell_type": "code",
   "execution_count": null,
   "id": "46def406",
   "metadata": {},
   "outputs": [],
   "source": [
    "print(grid_search_gbc.best_score_)"
   ]
  },
  {
   "cell_type": "code",
   "execution_count": null,
   "id": "0d16a4c0",
   "metadata": {},
   "outputs": [],
   "source": [
    "gbc = GradientBoostingClassifier(learning_rate= 0.1, loss = 'log_loss', n_estimators = 100)\n",
    "gbc.fit(X_train, y_train)"
   ]
  },
  {
   "cell_type": "code",
   "execution_count": null,
   "id": "22e53cc0",
   "metadata": {},
   "outputs": [],
   "source": [
    "gbc_acc = accuracy_score(y_test, gbc.predict(X_test))\n",
    "print(f\"Training Accuracy of GBC is {accuracy_score(y_train, gbc.predict(X_train))}\")\n",
    "print(f\"Testing Accuracy of GBC is {accuracy_score(y_test, gbc.predict(X_test))}\")\n",
    "\n",
    "print(f\"Confusion Matrix of GBC is \\n {confusion_matrix(y_test, gbc.predict(X_test))}\\n\")\n",
    "print(f\"Classification Report of GBC is \\n{classification_report(y_test, gbc.predict(X_test))}\")"
   ]
  },
  {
   "cell_type": "code",
   "execution_count": null,
   "id": "cd21e4cd",
   "metadata": {},
   "outputs": [],
   "source": [
    "# Model Comparison\n",
    "\n",
    "models = pd.DataFrame({\n",
    "    'Model':['Logistic Regression', 'KNN', 'SVM', 'DT', 'Random Forest Classifier', 'XgBoost','Gradient Boosting'],\n",
    "    'Score':[lr_acc, knn_acc, svm_acc, dtc_acc, rand_clf_acc, xgb_acc, gbc_acc]\n",
    "})\n",
    "\n",
    "models.sort_values(by='Score', ascending = False)"
   ]
  },
  {
   "cell_type": "code",
   "execution_count": null,
   "id": "8d1a9780",
   "metadata": {},
   "outputs": [],
   "source": [
    "import pickle\n",
    "model = dtc\n",
    "pickle.dump(model, open(\"ulcer.pkl\", 'wb'))"
   ]
  }
 ],
 "metadata": {
  "kernelspec": {
   "display_name": "Python 3",
   "language": "python",
   "name": "python3"
  },
  "language_info": {
   "codemirror_mode": {
    "name": "ipython",
    "version": 3
   },
   "file_extension": ".py",
   "mimetype": "text/x-python",
   "name": "python",
   "nbconvert_exporter": "python",
   "pygments_lexer": "ipython3",
   "version": "3.12.3"
  }
 },
 "nbformat": 4,
 "nbformat_minor": 5
}
